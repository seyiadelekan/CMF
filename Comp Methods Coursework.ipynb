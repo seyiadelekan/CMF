{
 "cells": [
  {
   "cell_type": "code",
   "execution_count": 1,
   "id": "8a4e5c71",
   "metadata": {},
   "outputs": [],
   "source": [
    "import yfinance as yf\n",
    "import numpy as np\n",
    "import pandas as pd\n",
    "import matplotlib as mpl\n",
    "import matplotlib.pyplot as plt\n",
    "import os\n",
    "import scipy.stats as si\n",
    "from mpl_toolkits.mplot3d import Axes3D"
   ]
  },
  {
   "cell_type": "code",
   "execution_count": 2,
   "id": "acce9c74",
   "metadata": {},
   "outputs": [
    {
     "name": "stdout",
     "output_type": "stream",
     "text": [
      "[*********************100%***********************]  1 of 1 completed\n"
     ]
    },
    {
     "data": {
      "text/html": [
       "<div>\n",
       "<style scoped>\n",
       "    .dataframe tbody tr th:only-of-type {\n",
       "        vertical-align: middle;\n",
       "    }\n",
       "\n",
       "    .dataframe tbody tr th {\n",
       "        vertical-align: top;\n",
       "    }\n",
       "\n",
       "    .dataframe thead th {\n",
       "        text-align: right;\n",
       "    }\n",
       "</style>\n",
       "<table border=\"1\" class=\"dataframe\">\n",
       "  <thead>\n",
       "    <tr style=\"text-align: right;\">\n",
       "      <th></th>\n",
       "      <th>Open</th>\n",
       "      <th>High</th>\n",
       "      <th>Low</th>\n",
       "      <th>Close</th>\n",
       "      <th>Adj Close</th>\n",
       "      <th>Volume</th>\n",
       "    </tr>\n",
       "    <tr>\n",
       "      <th>Date</th>\n",
       "      <th></th>\n",
       "      <th></th>\n",
       "      <th></th>\n",
       "      <th></th>\n",
       "      <th></th>\n",
       "      <th></th>\n",
       "    </tr>\n",
       "  </thead>\n",
       "  <tbody>\n",
       "    <tr>\n",
       "      <th>2022-03-27</th>\n",
       "      <td>101.773697</td>\n",
       "      <td>107.298714</td>\n",
       "      <td>99.269096</td>\n",
       "      <td>107.084221</td>\n",
       "      <td>107.084221</td>\n",
       "      <td>1572329892</td>\n",
       "    </tr>\n",
       "    <tr>\n",
       "      <th>2022-03-28</th>\n",
       "      <td>107.077965</td>\n",
       "      <td>113.175949</td>\n",
       "      <td>105.477875</td>\n",
       "      <td>106.465256</td>\n",
       "      <td>106.465256</td>\n",
       "      <td>2877146388</td>\n",
       "    </tr>\n",
       "    <tr>\n",
       "      <th>2022-03-29</th>\n",
       "      <td>106.327988</td>\n",
       "      <td>115.275719</td>\n",
       "      <td>105.999191</td>\n",
       "      <td>111.710312</td>\n",
       "      <td>111.710312</td>\n",
       "      <td>3052274877</td>\n",
       "    </tr>\n",
       "    <tr>\n",
       "      <th>2022-03-30</th>\n",
       "      <td>111.690254</td>\n",
       "      <td>124.605003</td>\n",
       "      <td>107.767258</td>\n",
       "      <td>120.699486</td>\n",
       "      <td>120.699486</td>\n",
       "      <td>3908170428</td>\n",
       "    </tr>\n",
       "    <tr>\n",
       "      <th>2022-03-31</th>\n",
       "      <td>120.681557</td>\n",
       "      <td>128.930115</td>\n",
       "      <td>120.197830</td>\n",
       "      <td>122.661461</td>\n",
       "      <td>122.661461</td>\n",
       "      <td>4115229587</td>\n",
       "    </tr>\n",
       "  </tbody>\n",
       "</table>\n",
       "</div>"
      ],
      "text/plain": [
       "                  Open        High         Low       Close   Adj Close  \\\n",
       "Date                                                                     \n",
       "2022-03-27  101.773697  107.298714   99.269096  107.084221  107.084221   \n",
       "2022-03-28  107.077965  113.175949  105.477875  106.465256  106.465256   \n",
       "2022-03-29  106.327988  115.275719  105.999191  111.710312  111.710312   \n",
       "2022-03-30  111.690254  124.605003  107.767258  120.699486  120.699486   \n",
       "2022-03-31  120.681557  128.930115  120.197830  122.661461  122.661461   \n",
       "\n",
       "                Volume  \n",
       "Date                    \n",
       "2022-03-27  1572329892  \n",
       "2022-03-28  2877146388  \n",
       "2022-03-29  3052274877  \n",
       "2022-03-30  3908170428  \n",
       "2022-03-31  4115229587  "
      ]
     },
     "execution_count": 2,
     "metadata": {},
     "output_type": "execute_result"
    }
   ],
   "source": [
    "initial_data = yf.download(\"SOL-USD\", start=\"2021-04-01\", end=\"2022-04-01\")\n",
    "initial_data.tail()\n"
   ]
  },
  {
   "cell_type": "code",
   "execution_count": 3,
   "id": "6470d692",
   "metadata": {},
   "outputs": [
    {
     "data": {
      "text/html": [
       "<div>\n",
       "<style scoped>\n",
       "    .dataframe tbody tr th:only-of-type {\n",
       "        vertical-align: middle;\n",
       "    }\n",
       "\n",
       "    .dataframe tbody tr th {\n",
       "        vertical-align: top;\n",
       "    }\n",
       "\n",
       "    .dataframe thead th {\n",
       "        text-align: right;\n",
       "    }\n",
       "</style>\n",
       "<table border=\"1\" class=\"dataframe\">\n",
       "  <thead>\n",
       "    <tr style=\"text-align: right;\">\n",
       "      <th></th>\n",
       "      <th>Open</th>\n",
       "      <th>High</th>\n",
       "      <th>Low</th>\n",
       "      <th>Close</th>\n",
       "      <th>Adj Close</th>\n",
       "      <th>Volume</th>\n",
       "    </tr>\n",
       "    <tr>\n",
       "      <th>Date</th>\n",
       "      <th></th>\n",
       "      <th></th>\n",
       "      <th></th>\n",
       "      <th></th>\n",
       "      <th></th>\n",
       "      <th></th>\n",
       "    </tr>\n",
       "  </thead>\n",
       "  <tbody>\n",
       "    <tr>\n",
       "      <th>2021-03-31</th>\n",
       "      <td>19.101685</td>\n",
       "      <td>19.795801</td>\n",
       "      <td>18.156256</td>\n",
       "      <td>19.465229</td>\n",
       "      <td>19.465229</td>\n",
       "      <td>206011018</td>\n",
       "    </tr>\n",
       "    <tr>\n",
       "      <th>2021-04-01</th>\n",
       "      <td>19.415682</td>\n",
       "      <td>20.361540</td>\n",
       "      <td>18.844246</td>\n",
       "      <td>19.084902</td>\n",
       "      <td>19.084902</td>\n",
       "      <td>173731886</td>\n",
       "    </tr>\n",
       "    <tr>\n",
       "      <th>2021-04-02</th>\n",
       "      <td>19.084631</td>\n",
       "      <td>19.824574</td>\n",
       "      <td>18.568419</td>\n",
       "      <td>19.810223</td>\n",
       "      <td>19.810223</td>\n",
       "      <td>131061660</td>\n",
       "    </tr>\n",
       "    <tr>\n",
       "      <th>2021-04-03</th>\n",
       "      <td>19.796452</td>\n",
       "      <td>23.827188</td>\n",
       "      <td>19.789450</td>\n",
       "      <td>22.552277</td>\n",
       "      <td>22.552277</td>\n",
       "      <td>483057740</td>\n",
       "    </tr>\n",
       "    <tr>\n",
       "      <th>2021-04-04</th>\n",
       "      <td>22.527370</td>\n",
       "      <td>25.569532</td>\n",
       "      <td>22.212969</td>\n",
       "      <td>24.061323</td>\n",
       "      <td>24.061323</td>\n",
       "      <td>426557980</td>\n",
       "    </tr>\n",
       "  </tbody>\n",
       "</table>\n",
       "</div>"
      ],
      "text/plain": [
       "                 Open       High        Low      Close  Adj Close     Volume\n",
       "Date                                                                        \n",
       "2021-03-31  19.101685  19.795801  18.156256  19.465229  19.465229  206011018\n",
       "2021-04-01  19.415682  20.361540  18.844246  19.084902  19.084902  173731886\n",
       "2021-04-02  19.084631  19.824574  18.568419  19.810223  19.810223  131061660\n",
       "2021-04-03  19.796452  23.827188  19.789450  22.552277  22.552277  483057740\n",
       "2021-04-04  22.527370  25.569532  22.212969  24.061323  24.061323  426557980"
      ]
     },
     "execution_count": 3,
     "metadata": {},
     "output_type": "execute_result"
    }
   ],
   "source": [
    "initial_data.head()"
   ]
  },
  {
   "cell_type": "code",
   "execution_count": 4,
   "id": "6e0ee350",
   "metadata": {},
   "outputs": [],
   "source": [
    "SOL_Price_data = initial_data['Adj Close']"
   ]
  },
  {
   "cell_type": "code",
   "execution_count": 5,
   "id": "616d11a8",
   "metadata": {},
   "outputs": [
    {
     "data": {
      "text/plain": [
       "Date\n",
       "2022-03-27    107.084221\n",
       "2022-03-28    106.465256\n",
       "2022-03-29    111.710312\n",
       "2022-03-30    120.699486\n",
       "2022-03-31    122.661461\n",
       "Name: Adj Close, dtype: float64"
      ]
     },
     "execution_count": 5,
     "metadata": {},
     "output_type": "execute_result"
    }
   ],
   "source": [
    "SOL_Price_data.tail()"
   ]
  },
  {
   "cell_type": "code",
   "execution_count": 6,
   "id": "8c3249bb",
   "metadata": {},
   "outputs": [
    {
     "data": {
      "text/plain": [
       "122.66146087646484"
      ]
     },
     "execution_count": 6,
     "metadata": {},
     "output_type": "execute_result"
    }
   ],
   "source": [
    "SOL_Spot_price = SOL_Price_data[-1]\n",
    "SOL_Spot_price"
   ]
  },
  {
   "cell_type": "code",
   "execution_count": 7,
   "id": "91c9b64e",
   "metadata": {},
   "outputs": [
    {
     "data": {
      "text/plain": [
       "Text(0.5, 1.0, 'SOLANA')"
      ]
     },
     "execution_count": 7,
     "metadata": {},
     "output_type": "execute_result"
    },
    {
     "data": {
      "image/png": "[encoded data removed]",
      "text/plain": [
       "<Figure size 432x288 with 1 Axes>"
      ]
     },
     "metadata": {
      "needs_background": "light"
     },
     "output_type": "display_data"
    }
   ],
   "source": [
    "\n",
    "Fig_1 = plt.figure()\n",
    "plt.plot(SOL_Price_data)\n",
    "plt.xlabel('Date')\n",
    "plt.ylabel('Price ($)')\n",
    "plt.title('SOLANA')"
   ]
  },
  {
   "cell_type": "code",
   "execution_count": 8,
   "id": "854d9a31",
   "metadata": {},
   "outputs": [
    {
     "data": {
      "text/plain": [
       "count    366.00\n",
       "mean     104.17\n",
       "std       66.76\n",
       "min       19.08\n",
       "25%       38.77\n",
       "50%       92.92\n",
       "75%      159.08\n",
       "max      258.93\n",
       "Name: Adj Close, dtype: float64"
      ]
     },
     "execution_count": 8,
     "metadata": {},
     "output_type": "execute_result"
    }
   ],
   "source": [
    "SOL_Price_data.describe().round(2)"
   ]
  },
  {
   "cell_type": "code",
   "execution_count": 9,
   "id": "76c61945",
   "metadata": {},
   "outputs": [
    {
     "data": {
      "text/plain": [
       "Date\n",
       "2022-03-27    0.0510\n",
       "2022-03-28   -0.0058\n",
       "2022-03-29    0.0481\n",
       "2022-03-30    0.0774\n",
       "2022-03-31    0.0161\n",
       "Name: Adj Close, dtype: float64"
      ]
     },
     "execution_count": 9,
     "metadata": {},
     "output_type": "execute_result"
    }
   ],
   "source": [
    "SOL_Log_Ret = np.log(SOL_Price_data / SOL_Price_data.shift(1))\n",
    "SOL_Log_Ret.tail().round(4)"
   ]
  },
  {
   "cell_type": "code",
   "execution_count": 10,
   "id": "3e35ba70",
   "metadata": {},
   "outputs": [
    {
     "name": "stdout",
     "output_type": "stream",
     "text": [
      "1.4166160625504183\n"
     ]
    }
   ],
   "source": [
    "SOL_Vol = np.sqrt(365) * SOL_Log_Ret.std()\n",
    "print(SOL_Vol)\n",
    "\n",
    "\n",
    "\n"
   ]
  },
  {
   "cell_type": "code",
   "execution_count": 11,
   "id": "c97f1ba3",
   "metadata": {},
   "outputs": [],
   "source": [
    "def SOLANA_euro_option_bs(S, K, T, r, vol, payoff):\n",
    "    \n",
    "    #S: spot price\n",
    "    #K: strike price\n",
    "    #T: time to maturity\n",
    "    #r: risk free rate\n",
    "    #SOL_vol: volatility of Solana\n",
    "    #payoff: call or put\n",
    "    \n",
    "    d1 = (np.log(S / K) + (r + 0.5 * vol** 2) * T) / (vol * np.sqrt(T))\n",
    "    d2 = (np.log(S / K) + (r - 0.5 * vol ** 2) * T) / (vol * np.sqrt(T))\n",
    "    if payoff == \"call\":\n",
    "        SOLANA_option_value = S * si.norm.cdf(d1, 0.0, 1.0) - K * np.exp(-r * T) * si.norm.cdf(d2, 0.0, 1.0)\n",
    "    elif payoff == \"put\":\n",
    "        SOLANA_option_value = - S * si.norm.cdf(-d1, 0.0, 1.0) + K * np.exp(-r * T) * si.norm.cdf(-d2, 0.0, 1.0)\n",
    "    \n",
    "    return SOLANA_option_value"
   ]
  },
  {
   "cell_type": "code",
   "execution_count": 12,
   "id": "371bd29d",
   "metadata": {},
   "outputs": [
    {
     "name": "stdout",
     "output_type": "stream",
     "text": [
      "The SOLANA Call Option price is $ 16.93\n"
     ]
    }
   ],
   "source": [
    "#payoff: call\n",
    "#Call Option\n",
    "# S = SOL_Spot_price\n",
    "# K = 130\n",
    "# r = 0.016\n",
    "# T= 30/365\n",
    "\n",
    "print(\"The SOLANA Call Option price is $\", round(SOLANA_euro_option_bs(SOL_Spot_price, 130, 30/365, 0.016, SOL_Vol , 'call'),2))"
   ]
  },
  {
   "cell_type": "code",
   "execution_count": 13,
   "id": "9fa63748",
   "metadata": {},
   "outputs": [],
   "source": [
    "def delta(S, K, T, r, q, vol, payoff):\n",
    "    \n",
    "    d1 = (np.log(S / K) + (r - q + 0.5 * vol ** 2) * T) / (vol * np.sqrt(T))\n",
    "    if payoff == \"call\":\n",
    "        delta = np.exp(-q * T) * si.norm.cdf(d1, 0.0, 1.0)\n",
    "    elif payoff == \"put\":\n",
    "        delta =  - np.exp(-q * T) * si.norm.cdf(-d1, 0.0, 1.0)\n",
    "    \n",
    "    return delta"
   ]
  },
  {
   "cell_type": "code",
   "execution_count": 14,
   "id": "44118561",
   "metadata": {},
   "outputs": [
    {
     "data": {
      "text/plain": [
       "0.5252087425488521"
      ]
     },
     "execution_count": 14,
     "metadata": {},
     "output_type": "execute_result"
    }
   ],
   "source": [
    "\n",
    "delta(SOL_Spot_price, 130, 30/365, 0.016, 0, SOL_Vol, 'call')"
   ]
  },
  {
   "cell_type": "code",
   "execution_count": 15,
   "id": "3b1c3085",
   "metadata": {},
   "outputs": [
    {
     "data": {
      "text/plain": [
       "-0.4747912574511479"
      ]
     },
     "execution_count": 15,
     "metadata": {},
     "output_type": "execute_result"
    }
   ],
   "source": [
    "delta(SOL_Spot_price, 130, 30/365, 0.016, 0, SOL_Vol, 'put')"
   ]
  },
  {
   "cell_type": "code",
   "execution_count": 16,
   "id": "143e7b85",
   "metadata": {},
   "outputs": [],
   "source": [
    "S = np.linspace(100,200,11)\n",
    "Delta_Call = np.zeros((len(S),1))\n",
    "Delta_Put = np.zeros((len(S),1))\n",
    "for i in range(len(S)):\n",
    "    Delta_Call [i] = delta(S[i], 130, 30/365, 0.016, 0, SOL_Vol, 'call')\n",
    "    Delta_Put [i] = delta(S[i], 130, 30/365, 0.016, 0, SOL_Vol, 'put')"
   ]
  },
  {
   "cell_type": "code",
   "execution_count": 17,
   "id": "df1a7334",
   "metadata": {},
   "outputs": [
    {
     "data": {
      "text/plain": [
       "<matplotlib.legend.Legend at 0x243a16e36a0>"
      ]
     },
     "execution_count": 17,
     "metadata": {},
     "output_type": "execute_result"
    },
    {
     "data": {
      "image/png": "[encoded data removed]",
      "text/plain": [
       "<Figure size 432x288 with 1 Axes>"
      ]
     },
     "metadata": {
      "needs_background": "light"
     },
     "output_type": "display_data"
    }
   ],
   "source": [
    "fig = plt.figure()\n",
    "plt.plot(S, Delta_Call, '-')\n",
    "plt.plot(S, Delta_Put, '--')\n",
    "plt.grid()\n",
    "plt.xlabel('Stock Price')\n",
    "plt.ylabel('Delta')\n",
    "plt.title('Delta')\n",
    "plt.legend(['Delta for Call','Delta for Put'])"
   ]
  },
  {
   "cell_type": "code",
   "execution_count": null,
   "id": "13fa9074",
   "metadata": {},
   "outputs": [],
   "source": []
  },
  {
   "cell_type": "code",
   "execution_count": 18,
   "id": "9efef1ff",
   "metadata": {},
   "outputs": [],
   "source": [
    "def gamma(S, K, T, r, q, vol, payoff):\n",
    "    \n",
    "    d1 = (np.log(S / K) + (r - q + 0.5 * vol ** 2) * T) / (vol * np.sqrt(T))\n",
    "    gamma = np.exp(- q * T) * si.norm.pdf(d1, 0.0, 1.0) / (vol * S * np.sqrt(T))\n",
    "    \n",
    "    return gamma"
   ]
  },
  {
   "cell_type": "code",
   "execution_count": 19,
   "id": "175198f1",
   "metadata": {},
   "outputs": [
    {
     "data": {
      "text/plain": [
       "0.007992219175455745"
      ]
     },
     "execution_count": 19,
     "metadata": {},
     "output_type": "execute_result"
    }
   ],
   "source": [
    "gamma(SOL_Spot_price, 130, 30/365, 0.016, 0, SOL_Vol, 'call')"
   ]
  },
  {
   "cell_type": "code",
   "execution_count": 20,
   "id": "e707647f",
   "metadata": {},
   "outputs": [
    {
     "data": {
      "text/plain": [
       "0.007992219175455745"
      ]
     },
     "execution_count": 20,
     "metadata": {},
     "output_type": "execute_result"
    }
   ],
   "source": [
    "gamma(SOL_Spot_price, 130, 30/365, 0.016, 0, SOL_Vol, 'put')"
   ]
  },
  {
   "cell_type": "code",
   "execution_count": 21,
   "id": "32a97fb3",
   "metadata": {},
   "outputs": [],
   "source": [
    "S = np.linspace(50,150,11)\n",
    "Gamma = np.zeros((len(S),1))\n",
    "for i in range(len(S)):\n",
    "    Gamma [i] = gamma(S[i], 130, 30/365, 0.016, 0, SOL_Vol, 'call')\n"
   ]
  },
  {
   "cell_type": "code",
   "execution_count": 22,
   "id": "3d236f59",
   "metadata": {},
   "outputs": [
    {
     "data": {
      "text/plain": [
       "<matplotlib.legend.Legend at 0x243a1756730>"
      ]
     },
     "execution_count": 22,
     "metadata": {},
     "output_type": "execute_result"
    },
    {
     "data": {
      "image/png": "[encoded data removed]",
      "text/plain": [
       "<Figure size 432x288 with 1 Axes>"
      ]
     },
     "metadata": {
      "needs_background": "light"
     },
     "output_type": "display_data"
    }
   ],
   "source": [
    "fig = plt.figure()\n",
    "plt.plot(S, Gamma, '-')\n",
    "plt.grid()\n",
    "plt.xlabel('Stock Price')\n",
    "plt.ylabel('Gamma')\n",
    "plt.title('Gamma')\n",
    "plt.legend(['Gamma for Call and Put'])"
   ]
  },
  {
   "cell_type": "code",
   "execution_count": null,
   "id": "50705624",
   "metadata": {},
   "outputs": [],
   "source": []
  },
  {
   "cell_type": "code",
   "execution_count": 23,
   "id": "cafe07e8",
   "metadata": {},
   "outputs": [],
   "source": [
    "def speed(S, K, T, r, q, vol, payoff):\n",
    "    \n",
    "    d1 = (np.log(S / K) + (r - q + 0.5 * vol ** 2) * T) / (vol * np.sqrt(T))\n",
    "    speed = - np.exp(-q * T) * si.norm.pdf(d1, 0.0, 1.0) / ((vol **2) * (S**2) * np.sqrt(T)) * (d1 + vol * np.sqrt(T))\n",
    "    \n",
    "    return speed"
   ]
  },
  {
   "cell_type": "code",
   "execution_count": 24,
   "id": "b77b669c",
   "metadata": {},
   "outputs": [
    {
     "data": {
      "text/plain": [
       "-2.158814149621681e-05"
      ]
     },
     "execution_count": 24,
     "metadata": {},
     "output_type": "execute_result"
    }
   ],
   "source": [
    "speed(SOL_Spot_price, 130, 30/365, 0.016, 0, SOL_Vol, 'call')"
   ]
  },
  {
   "cell_type": "code",
   "execution_count": 25,
   "id": "18c4e481",
   "metadata": {},
   "outputs": [
    {
     "data": {
      "text/plain": [
       "-2.158814149621681e-05"
      ]
     },
     "execution_count": 25,
     "metadata": {},
     "output_type": "execute_result"
    }
   ],
   "source": [
    "speed(SOL_Spot_price, 130, 30/365, 0.016, 0, SOL_Vol, 'put')"
   ]
  },
  {
   "cell_type": "code",
   "execution_count": 26,
   "id": "f6dabb1d",
   "metadata": {},
   "outputs": [],
   "source": [
    "S = np.linspace(50,150,11)\n",
    "Speed = np.zeros((len(S),1))\n",
    "for i in range(len(S)):\n",
    "    Speed [i] = speed(S[i], 130, 30/365, 0.016, 0, SOL_Vol, 'call')"
   ]
  },
  {
   "cell_type": "code",
   "execution_count": 27,
   "id": "14ba9785",
   "metadata": {},
   "outputs": [
    {
     "data": {
      "text/plain": [
       "<matplotlib.legend.Legend at 0x243a17ce340>"
      ]
     },
     "execution_count": 27,
     "metadata": {},
     "output_type": "execute_result"
    },
    {
     "data": {
      "image/png": "[encoded data removed]",
      "text/plain": [
       "<Figure size 432x288 with 1 Axes>"
      ]
     },
     "metadata": {
      "needs_background": "light"
     },
     "output_type": "display_data"
    }
   ],
   "source": [
    "fig = plt.figure()\n",
    "plt.plot(S, Speed, '-')\n",
    "plt.grid()\n",
    "plt.xlabel('Stock Price')\n",
    "plt.ylabel('Speed')\n",
    "plt.title('Speed')\n",
    "plt.legend(['Speed for Call and Put'])"
   ]
  },
  {
   "cell_type": "code",
   "execution_count": null,
   "id": "e56eb0eb",
   "metadata": {},
   "outputs": [],
   "source": []
  },
  {
   "cell_type": "code",
   "execution_count": 28,
   "id": "b354c5c6",
   "metadata": {},
   "outputs": [],
   "source": [
    "def theta(S, K, T, r, q, vol, payoff):\n",
    "    \n",
    "    d1 = (np.log(S / K) + (r - q + 0.5 * vol ** 2) * T) / (vol * np.sqrt(T))\n",
    "    d2 = (np.log(S / K) + (r - q - 0.5 * vol ** 2) * T) / (vol * np.sqrt(T))\n",
    "    if payoff == \"call\":\n",
    "        theta = vol * S * np.exp(-q * T) * si.norm.pdf(d1, 0.0, 1.0) / (2 * np.sqrt(T)) - q * S * np.exp(-q * T) * si.norm.cdf(d1, 0.0, 1.0) + r * K * np.exp(-r * T) * si.norm.cdf(d2, 0.0, 1.0)\n",
    "    elif payoff == \"put\":\n",
    "        theta = vol * S * np.exp(-q * T) * si.norm.pdf(-d1, 0.0, 1.0) / (2 * np.sqrt(T)) - q * S * np.exp(-q * T) * si.norm.cdf(-d1, 0.0, 1.0) + r * K * np.exp(-r * T) * si.norm.cdf(-d2, 0.0, 1.0)\n",
    "    \n",
    "    return theta"
   ]
  },
  {
   "cell_type": "code",
   "execution_count": 29,
   "id": "7a529e96",
   "metadata": {},
   "outputs": [
    {
     "data": {
      "text/plain": [
       "121.41845627803634"
      ]
     },
     "execution_count": 29,
     "metadata": {},
     "output_type": "execute_result"
    }
   ],
   "source": [
    "theta(SOL_Spot_price, 130, 30/365, 0.016, 0, SOL_Vol, 'call')"
   ]
  },
  {
   "cell_type": "code",
   "execution_count": 30,
   "id": "08a066c7",
   "metadata": {},
   "outputs": [
    {
     "data": {
      "text/plain": [
       "121.97584174559256"
      ]
     },
     "execution_count": 30,
     "metadata": {},
     "output_type": "execute_result"
    }
   ],
   "source": [
    "theta(SOL_Spot_price, 130, 30/365, 0.016, 0, SOL_Vol, 'put')"
   ]
  },
  {
   "cell_type": "code",
   "execution_count": 31,
   "id": "2ff5af18",
   "metadata": {},
   "outputs": [],
   "source": [
    "T = np.linspace(0.01,60/365,12)\n",
    "Theta_Call = np.zeros((len(T),1))\n",
    "Theta_Put = np.zeros((len(T),1))\n",
    "for i in range(len(T)):\n",
    "    Theta_Call [i] = theta(SOL_Spot_price, 140, T[i], 0.016, 0, SOL_Vol, 'call')\n",
    "    Theta_Put [i] = theta(SOL_Spot_price, 140, T[i], 0.016, 0, SOL_Vol, 'put')"
   ]
  },
  {
   "cell_type": "code",
   "execution_count": 32,
   "id": "b8829ab7",
   "metadata": {},
   "outputs": [
    {
     "data": {
      "text/plain": [
       "<matplotlib.legend.Legend at 0x243a185f250>"
      ]
     },
     "execution_count": 32,
     "metadata": {},
     "output_type": "execute_result"
    },
    {
     "data": {
      "image/png": "[encoded data removed]",
      "text/plain": [
       "<Figure size 432x288 with 1 Axes>"
      ]
     },
     "metadata": {
      "needs_background": "light"
     },
     "output_type": "display_data"
    }
   ],
   "source": [
    "fig = plt.figure()\n",
    "plt.plot(T, Theta_Call, '-')\n",
    "plt.plot(T, Theta_Put, '-')\n",
    "plt.grid()\n",
    "plt.xlabel('Time to Expiry')\n",
    "plt.ylabel('Theta')\n",
    "plt.title('Theta')\n",
    "plt.legend(['Theta for Call', 'Theta for Put'])"
   ]
  },
  {
   "cell_type": "code",
   "execution_count": null,
   "id": "1cbfc32e",
   "metadata": {},
   "outputs": [],
   "source": []
  },
  {
   "cell_type": "code",
   "execution_count": 33,
   "id": "f7d2e603",
   "metadata": {},
   "outputs": [],
   "source": [
    "def rho(S, K, T, r, q, vol, payoff):\n",
    "    \n",
    "    d1 = (np.log(S / K) + (r - q + 0.5 * vol ** 2) * T) / (vol * np.sqrt(T))\n",
    "    d2 = (np.log(S / K) + (r - q - 0.5 * vol ** 2) * T) / (vol * np.sqrt(T))\n",
    "    if payoff == \"call\":\n",
    "        rho =  K * T * np.exp(-r * T) * si.norm.cdf(d2, 0.0, 1.0)\n",
    "    elif payoff == \"put\":\n",
    "        rho = - K * T * np.exp(-r * T) * si.norm.cdf(-d2, 0.0, 1.0)\n",
    "    \n",
    "    return rho"
   ]
  },
  {
   "cell_type": "code",
   "execution_count": 34,
   "id": "df33ca97",
   "metadata": {},
   "outputs": [
    {
     "data": {
      "text/plain": [
       "3.4436329045795135"
      ]
     },
     "execution_count": 34,
     "metadata": {},
     "output_type": "execute_result"
    }
   ],
   "source": [
    "rho(SOL_Spot_price, 140, 30/365, 0.016, 0, SOL_Vol, 'call')"
   ]
  },
  {
   "cell_type": "code",
   "execution_count": 35,
   "id": "e70a52fe",
   "metadata": {},
   "outputs": [
    {
     "data": {
      "text/plain": [
       "-8.048094061141274"
      ]
     },
     "execution_count": 35,
     "metadata": {},
     "output_type": "execute_result"
    }
   ],
   "source": [
    "rho(SOL_Spot_price, 140, 30/365, 0.016, 0, SOL_Vol, 'put')"
   ]
  },
  {
   "cell_type": "code",
   "execution_count": 36,
   "id": "edbb71de",
   "metadata": {},
   "outputs": [],
   "source": [
    "r = np.linspace(0,0.05,11)\n",
    "Rho_Call = np.zeros((len(r),1))\n",
    "Rho_Put = np.zeros((len(r),1))\n",
    "for i in range(len(r)):\n",
    "    Rho_Call [i] = rho(SOL_Spot_price, 140, 30/365, r[i], 0, SOL_Vol, 'call')\n",
    "    Rho_Put [i] = rho(SOL_Spot_price, 140, 30/365, r[i], 0, SOL_Vol, 'put')"
   ]
  },
  {
   "cell_type": "code",
   "execution_count": 37,
   "id": "97e88f69",
   "metadata": {},
   "outputs": [
    {
     "data": {
      "text/plain": [
       "<matplotlib.legend.Legend at 0x243a18fed30>"
      ]
     },
     "execution_count": 37,
     "metadata": {},
     "output_type": "execute_result"
    },
    {
     "data": {
      "image/png": "[encoded data removed]",
      "text/plain": [
       "<Figure size 432x288 with 1 Axes>"
      ]
     },
     "metadata": {
      "needs_background": "light"
     },
     "output_type": "display_data"
    }
   ],
   "source": [
    "fig = plt.figure()\n",
    "plt.plot(r, Rho_Call, '-')\n",
    "plt.plot(r, Rho_Put, '-')\n",
    "plt.grid()\n",
    "plt.xlabel('Interest Rate')\n",
    "plt.ylabel('Rho')\n",
    "plt.title('Rho')\n",
    "plt.legend(['Rho for Call', 'Rho for Put'])"
   ]
  },
  {
   "cell_type": "code",
   "execution_count": null,
   "id": "003f1c15",
   "metadata": {},
   "outputs": [],
   "source": []
  },
  {
   "cell_type": "code",
   "execution_count": 38,
   "id": "6b1d4cd3",
   "metadata": {},
   "outputs": [],
   "source": [
    "def vega(S, K, T, r, q, vol, payoff):\n",
    "    \n",
    "    d1 = (np.log(S / K) + (r - q + 0.5 * vol ** 2) * T) / (vol * np.sqrt(T))\n",
    "    vega = S * np.sqrt(T) * np.exp(-q * T) * si.norm.pdf(d1, 0.0, 1.0)\n",
    "    \n",
    "    return vega"
   ]
  },
  {
   "cell_type": "code",
   "execution_count": 39,
   "id": "850a3527",
   "metadata": {},
   "outputs": [
    {
     "data": {
      "text/plain": [
       "13.929799194215008"
      ]
     },
     "execution_count": 39,
     "metadata": {},
     "output_type": "execute_result"
    }
   ],
   "source": [
    "vega(SOL_Spot_price, 140, 30/365, 0.016, 0, SOL_Vol, 'call')"
   ]
  },
  {
   "cell_type": "code",
   "execution_count": 40,
   "id": "69b81140",
   "metadata": {},
   "outputs": [
    {
     "data": {
      "text/plain": [
       "13.929799194215008"
      ]
     },
     "execution_count": 40,
     "metadata": {},
     "output_type": "execute_result"
    }
   ],
   "source": [
    "vega(SOL_Spot_price, 140, 30/365, 0.016, 0, SOL_Vol, 'put')"
   ]
  },
  {
   "cell_type": "code",
   "execution_count": 41,
   "id": "5467b253",
   "metadata": {},
   "outputs": [],
   "source": [
    "vol = np.linspace(0.1,0.4,13)\n",
    "Vega = np.zeros((len(vol),1))\n",
    "for i in range(len(vol)):\n",
    "    Vega [i] = vega(SOL_Spot_price, 140, 30/365, 0.016, 0, vol[i] , 'call')"
   ]
  },
  {
   "cell_type": "code",
   "execution_count": 42,
   "id": "ffa48c03",
   "metadata": {},
   "outputs": [
    {
     "data": {
      "text/plain": [
       "<matplotlib.legend.Legend at 0x243a194ea90>"
      ]
     },
     "execution_count": 42,
     "metadata": {},
     "output_type": "execute_result"
    },
    {
     "data": {
      "image/png": "[encoded data removed]",
      "text/plain": [
       "<Figure size 432x288 with 1 Axes>"
      ]
     },
     "metadata": {
      "needs_background": "light"
     },
     "output_type": "display_data"
    }
   ],
   "source": [
    "fig = plt.figure()\n",
    "plt.plot(vol, Vega, '-')\n",
    "plt.grid()\n",
    "plt.xlabel('Volatility')\n",
    "plt.ylabel('Vega')\n",
    "plt.title('Vega')\n",
    "plt.legend(['Vega for Call and Put'])"
   ]
  },
  {
   "cell_type": "code",
   "execution_count": null,
   "id": "7e3fef2c",
   "metadata": {},
   "outputs": [],
   "source": []
  },
  {
   "cell_type": "markdown",
   "id": "a6c0c9cb",
   "metadata": {},
   "source": [
    " # Monte Carlo Simulation"
   ]
  },
  {
   "cell_type": "code",
   "execution_count": 43,
   "id": "f7c80ab7",
   "metadata": {},
   "outputs": [],
   "source": [
    "def mcs_simulation_np(p):\n",
    "    M = p\n",
    "    I = p\n",
    "    dt = T / M \n",
    "    S = np.zeros((M + 1, I))\n",
    "    S[0] = S0 \n",
    "    rn = np.random.standard_normal(S.shape) \n",
    "    for t in range(1, M + 1): \n",
    "        S[t] = S[t-1] * np.exp((r - sigma ** 2 / 2) * dt + sigma * np.sqrt(dt) * rn[t]) \n",
    "    return S"
   ]
  },
  {
   "cell_type": "code",
   "execution_count": 44,
   "id": "756bc383",
   "metadata": {},
   "outputs": [],
   "source": [
    "T = 30 / 365\n",
    "r = 0.016\n",
    "sigma = SOL_Vol\n",
    "S0 = SOL_Spot_price\n",
    "K = 140\n",
    "\n",
    "\n",
    "# T = time\n",
    "# r = risk free rate\n",
    "# sigma = volatility\n",
    "# S0 = spot price\n",
    "# K = Strike Price"
   ]
  },
  {
   "cell_type": "code",
   "execution_count": 52,
   "id": "fea6a2cb",
   "metadata": {},
   "outputs": [],
   "source": [
    "S = mcs_simulation_np(20000)\n",
    "\n",
    "# a thousand simulations \n"
   ]
  },
  {
   "cell_type": "code",
   "execution_count": 53,
   "id": "a64f655d",
   "metadata": {},
   "outputs": [
    {
     "data": {
      "text/plain": [
       "array([[122.66146088, 122.01533314, 121.92627486, ..., 103.85843684,\n",
       "        103.76091226, 103.92156105],\n",
       "       [122.66146088, 122.74978135, 122.74742402, ...,  48.03898294,\n",
       "         47.8184487 ,  47.81340365],\n",
       "       [122.66146088, 123.00398845, 122.30360785, ..., 131.35826758,\n",
       "        130.9159733 , 130.53937297],\n",
       "       ...,\n",
       "       [122.66146088, 122.88711861, 123.89221018, ...,  96.70654669,\n",
       "         96.16923604,  96.11277583],\n",
       "       [122.66146088, 122.3079153 , 122.20121975, ...,  82.55033636,\n",
       "         82.31601902,  82.27877759],\n",
       "       [122.66146088, 122.448704  , 123.08515311, ...,  97.62894662,\n",
       "         97.85079155,  97.91395233]])"
      ]
     },
     "execution_count": 53,
     "metadata": {},
     "output_type": "execute_result"
    }
   ],
   "source": [
    "S = np.transpose(S)\n",
    "S"
   ]
  },
  {
   "cell_type": "code",
   "execution_count": null,
   "id": "1e086718",
   "metadata": {},
   "outputs": [],
   "source": []
  },
  {
   "cell_type": "code",
   "execution_count": 54,
   "id": "fd2a6764",
   "metadata": {},
   "outputs": [
    {
     "data": {
      "text/plain": [
       "Text(0.5, 1.0, 'Frequency distribution of the simulated end-of-preiod values')"
      ]
     },
     "execution_count": 54,
     "metadata": {},
     "output_type": "execute_result"
    },
    {
     "data": {
      "image/png": "[encoded data removed]",
      "text/plain": [
       "<Figure size 432x288 with 1 Axes>"
      ]
     },
     "metadata": {
      "needs_background": "light"
     },
     "output_type": "display_data"
    }
   ],
   "source": [
    "n, bins, patches = plt.hist(x=S[:,-1], bins='auto', color='#0504aa',alpha=0.7, rwidth=0.85)\n",
    "\n",
    "plt.grid(axis='y', alpha=0.75)\n",
    "plt.xlabel('S_T')\n",
    "plt.ylabel('Frequency')\n",
    "plt.title('Frequency distribution of the simulated end-of-preiod values')"
   ]
  },
  {
   "cell_type": "code",
   "execution_count": null,
   "id": "812f8177",
   "metadata": {},
   "outputs": [],
   "source": []
  },
  {
   "cell_type": "code",
   "execution_count": 55,
   "id": "ef23fb82",
   "metadata": {},
   "outputs": [
    {
     "name": "stdout",
     "output_type": "stream",
     "text": [
      "European put 30.895893816705\n"
     ]
    }
   ],
   "source": [
    "p = np.mean(np.maximum(K - S[:,-1],0))\n",
    "print('European put', str(p))"
   ]
  },
  {
   "cell_type": "code",
   "execution_count": 56,
   "id": "08d9d0ca",
   "metadata": {},
   "outputs": [
    {
     "name": "stdout",
     "output_type": "stream",
     "text": [
      "European call 13.77840236939581\n"
     ]
    }
   ],
   "source": [
    "c = np.mean(np.maximum(S[:,-1] - K,0))\n",
    "print('European call', str(c))"
   ]
  },
  {
   "cell_type": "code",
   "execution_count": null,
   "id": "e09264a9",
   "metadata": {},
   "outputs": [],
   "source": []
  }
 ],
 "metadata": {
  "kernelspec": {
   "display_name": "Python 3 (ipykernel)",
   "language": "python",
   "name": "python3"
  },
  "language_info": {
   "codemirror_mode": {
    "name": "ipython",
    "version": 3
   },
   "file_extension": ".py",
   "mimetype": "text/x-python",
   "name": "python",
   "nbconvert_exporter": "python",
   "pygments_lexer": "ipython3",
   "version": "3.9.7"
  }
 },
 "nbformat": 4,
 "nbformat_minor": 5
}
